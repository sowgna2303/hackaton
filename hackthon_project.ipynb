{
  "nbformat": 4,
  "nbformat_minor": 0,
  "metadata": {
    "colab": {
      "name": "hackthon project.ipynb",
      "provenance": []
    },
    "kernelspec": {
      "name": "python3",
      "display_name": "Python 3"
    },
    "language_info": {
      "name": "python"
    }
  },
  "cells": [
    {
      "cell_type": "code",
      "source": [
        "!pip install ctypes"
      ],
      "metadata": {
        "colab": {
          "base_uri": "https://localhost:8080/"
        },
        "id": "974dmIdLvG8s",
        "outputId": "e56e5e12-e08d-4ac9-94cc-a9071480f4f6"
      },
      "execution_count": 49,
      "outputs": [
        {
          "output_type": "stream",
          "name": "stdout",
          "text": [
            "Looking in indexes: https://pypi.org/simple, https://us-python.pkg.dev/colab-wheels/public/simple/\n",
            "\u001b[31mERROR: Could not find a version that satisfies the requirement ctypes (from versions: none)\u001b[0m\n",
            "\u001b[31mERROR: No matching distribution found for ctypes\u001b[0m\n"
          ]
        }
      ]
    },
    {
      "cell_type": "code",
      "source": [
        "!apt install pyttsx3"
      ],
      "metadata": {
        "colab": {
          "base_uri": "https://localhost:8080/"
        },
        "id": "i3-inu-0u01i",
        "outputId": "e5e8be28-4265-4a02-8f33-406157a4fb2f"
      },
      "execution_count": 43,
      "outputs": [
        {
          "output_type": "stream",
          "name": "stdout",
          "text": [
            "Reading package lists... Done\n",
            "Building dependency tree       \n",
            "Reading state information... Done\n",
            "E: Unable to locate package pyttsx3\n"
          ]
        }
      ]
    },
    {
      "cell_type": "code",
      "source": [
        "!apt install engine"
      ],
      "metadata": {
        "colab": {
          "base_uri": "https://localhost:8080/"
        },
        "id": "_neDW29bxYni",
        "outputId": "57be7fd1-f176-46c5-f5d0-236b1dfa1c4d"
      },
      "execution_count": 31,
      "outputs": [
        {
          "output_type": "stream",
          "name": "stdout",
          "text": [
            "Reading package lists... Done\n",
            "Building dependency tree       \n",
            "Reading state information... Done\n",
            "E: Unable to locate package engine\n"
          ]
        }
      ]
    },
    {
      "cell_type": "code",
      "source": [
        "import pyttsx3                                                            # Importing pyttsx3 library to convert text into speech.\n",
        "import pandas as pd                                                       # Importing pandas library\n",
        "from sklearn import preprocessing                                         # Importing sklearn library. This is a very powerfull library for machine learning. Scikit-learn is probably the most useful library for machine learning in Python. The sklearn library contains a lot of efficient tools for machine learning and statistical modeling including classification, regression, clustering and dimensionality reduction.\n",
        "from sklearn.neighbors import KNeighborsClassifier                        # Importing Knn Classifier from sklearn library.\n",
        "import numpy as np                                                        # Importing numpy to do stuffs related to arrays\n",
        "import PySimpleGUI as sg                                                  # Importing pysimplegui to make a Graphical User Interface.\n",
        "\n",
        "excel = pd.read_excel('/content/crop.xlsx', header = 0)                            # Importing our excel data from a specific file.\n",
        "print(excel)                                                              # Printing our excel file data.\n",
        "print(excel.shape)                                                        # Checking out the shape of our data.\n",
        "\n",
        "engine = pyttsx3.init('sapi5')                       # Defining the speech rate, type of voice etc.\n",
        "voices = engine.getProperty('voices')\n",
        "rate = engine.getProperty('rate')\n",
        "engine.setProperty('rate', rate-20)\n",
        "engine.setProperty('voice',voices[0].id)\n",
        "\n",
        "\n",
        "def speak(audio):                                                         # Defining a speak function. We can call this function when we want to make our program to speak something.\n",
        "\tengine.say(audio) \n",
        "\tengine.runAndWait()\n",
        "\n",
        "\n",
        "le = preprocessing.LabelEncoder()                                         # Various machine learning algorithms require numerical input data, so you need to represent categorical columns in a numerical column. In order to encode this data, you could map each value to a number. This process is known as label encoding, and sklearn conveniently will do this for you using Label Encoder.\n",
        "crop = le.fit_transform(list(excel[\"CROP\"]))                              # Mapping the values in weather into numerical form.\n",
        "\n",
        "                                                    \n",
        "NITROGEN = list(excel[\"NITROGEN\"])                                        # Making the whole row consisting of nitrogen values to come into nitrogen. \n",
        "PHOSPHORUS = list(excel[\"PHOSPHORUS\"])                                    # Making the whole row consisting of phosphorus values to come into phosphorus. \n",
        "POTASSIUM = list(excel[\"POTASSIUM\"])                                      # Making the whole row consisting of potassium values to come into potassium. \n",
        "TEMPERATURE = list(excel[\"TEMPERATURE\"])                                  # Making the whole row consisting of temperature values to come into temperature.\n",
        "HUMIDITY = list(excel[\"HUMIDITY\"])                                        # Making the whole row consisting of humidity values to come into humidity.\n",
        "PH = list(excel[\"PH\"])                                                    # Making the whole row consisting of ph values to come into ph.\n",
        "RAINFALL = list(excel[\"RAINFALL\"])                                        # Making the whole row consisting of rainfall values to come into rainfall.\n",
        "\n",
        "\n",
        "features = list(zip(NITROGEN, PHOSPHORUS, POTASSIUM, TEMPERATURE, HUMIDITY, PH, RAINFALL))                     # Zipping all the features together \n",
        "features = np.array([NITROGEN, PHOSPHORUS, POTASSIUM, TEMPERATURE, HUMIDITY, PH, RAINFALL])                    # Converting all the features into a array form     \n",
        "\n",
        "features = features.transpose()                                                                                # Making transpose of the features \n",
        "print(features.shape)                                                                                          # Printing the shape of the features after getting transposed.\n",
        "print(crop.shape)                                                                                              # Printing the shape of crop. Please note that the shape of the features and crop should match each other to make predictions.\n",
        "\n",
        "model = KNeighborsClassifier(n_neighbors=3)                                                                    # The number of neighbors is the core deciding factor. K is generally an odd number if the number of classes is 2. When K=1, then the algorithm is known as the nearest neighbor algorithm.\n",
        "model.fit(features, crop)                                                                                      # fit your model on the train set using fit() and perform prediction on the test set using predict().\n",
        "layout = [[sg.Text('                      Crop Recommendation Assistant', font=(\"Helvetica\", 30), text_color = 'yellow')],                                                    # Defining the layout of the Graphical User Interface. It consist of some text, Buttons, and blanks to take Input.                                                        \n",
        "         [sg.Text('Please enter the following details :-', font=(\"Helvetica\", 20))],                                                                                          # We have defined the text size, font type, font size, blank size, colour of the text in the GUI.\n",
        "         [sg.Text('Enter ratio of Nitrogen in the soil                                  :', font=(\"Helvetica\", 20)), sg.Input(font=(\"Helvetica\",20), size = (20,1) )],\n",
        "         [sg.Text('Enter ratio of Phosphorous in the soil                           :', font=(\"Helvetica\", 20)), sg.Input(font=(\"Helvetica\", 20),size = (20,1))],\n",
        "         [sg.Text('Enter ratio of Potassium in the soil                               :', font=(\"Helvetica\", 20)), sg.Input(font=(\"Helvetica\", 20),size = (20,1))],\n",
        "         [sg.Text('Enter average Temperature value around the field        :', font=(\"Helvetica\", 20)), sg.Input(font=(\"Helvetica\", 20),size = (20,1)), sg.Text('*C', font=(\"Helvetica\", 20))], \n",
        "         [sg.Text('Enter average percentage of Humidity around the field :', font=(\"Helvetica\", 20)), sg.Input(font=(\"Helvetica\", 20),size = (20,1)), sg.Text('%', font=(\"Helvetica\", 20))], \n",
        "         [sg.Text('Enter PH value of the soil                                            :', font=(\"Helvetica\", 20)), sg.Input(font=(\"Helvetica\", 20),size = (20,1))], \n",
        "         [sg.Text('Enter average amount of Rainfall around the field        :', font=(\"Helvetica\", 20) ), sg.Input(font=(\"Helvetica\", 20),size = (20,1)),sg.Text('mm', font=(\"Helvetica\", 20))],\n",
        "         [sg.Text(size=(50,1),font=(\"Helvetica\",20) , text_color = 'yellow', key='-OUTPUT1-' )],\n",
        "         [sg.Button('Submit', font=(\"Helvetica\", 20)),sg.Button('Quit', font=(\"Helvetica\", 20))] ]\n",
        "window = sg.Window('Crop Recommendation Assistant', layout) \n",
        "\n",
        "while True: \n",
        "\tevent, values = window.read()\n",
        "\tif event == sg.WINDOW_CLOSED or event == 'Quit':                                                                                            # If the user will press the quit button then the program will end up.\n",
        "\t\tbreak\n",
        "\tprint(values[0])\n",
        "\tnitrogen_content =         values[0]                                                                                                        # Taking input from the user about nitrogen content in the soil.\n",
        "\tphosphorus_content =       values[1]                                                                                                        # Taking input from the user about phosphorus content in the soil.\n",
        "\tpotassium_content =        values[2]                                                                                                        # Taking input from the user about potassium content in the soil.\n",
        "\ttemperature_content =      values[3]                                                                                                        # Taking input from the user about the surrounding temperature.\n",
        "\thumidity_content =         values[4]                                                                                                        # Taking input from the user about the surrounding humidity. \n",
        "\tph_content =               values[5]                                                                                                        # Taking input from the user about the ph level of the soil.\n",
        "\trainfall =                 values[6]                                                                                                        # Taking input from the user about the rainfall.\n",
        "\tpredict1 = np.array([nitrogen_content,phosphorus_content, potassium_content, temperature_content, humidity_content, ph_content, rainfall])  # Converting all the data that we collected from the user into a array form to make further predictions.\n",
        "\tprint(predict1)                                                                                                                             # Printing the data after being converted into a array form.\n",
        "\tpredict1 = predict1.reshape(1,-1)                                                                              # Reshaping the input data so that it can be applied in the model for getting accurate results.\n",
        "\tprint(predict1)                                                                                                # Printing the input data value after being reshaped.\n",
        "\tpredict1 = model.predict(predict1)                                                                             # Applying the user input data into the model. \n",
        "\tprint(predict1)                                                                                                # Finally printing out the results.\n",
        "\tcrop_name = str()\n",
        "\tif predict1 == 0:                                                                                              # Above we have converted the crop names into numerical form, so that we can apply the machine learning model easily. Now we have to again change the numerical values into names of crop so that we can print it when required. \n",
        "\t\tcrop_name = 'Apple(सेब)'\n",
        "\telif predict1 == 1:\n",
        "\t\tcrop_name = 'Banana(केला)'\n",
        "\telif predict1 == 2:\n",
        "\t\tcrop_name = 'Blackgram(काला चना)'\n",
        "\telif predict1 == 3:\n",
        "\t\tcrop_name = 'Chickpea(काबुली चना)'\n",
        "\telif predict1 == 4:\n",
        "\t\tcrop_name = 'Coconut(नारियल)'\n",
        "\telif predict1 == 5:\n",
        "\t\tcrop_name = 'Coffee(कॉफ़ी)'\n",
        "\telif predict1 == 6:\n",
        "\t\tcrop_name = 'Cotton(कपास)'\n",
        "\telif predict1 == 7:\n",
        "\t\tcrop_name = 'Grapes(अंगूर)'\n",
        "\telif predict1 == 8:\n",
        "\t\tcrop_name = 'Jute(जूट)'\n",
        "\telif predict1 == 9:\n",
        "\t\tcrop_name = 'Kidneybeans(राज़में)'\n",
        "\telif predict1 == 10:\n",
        "\t\tcrop_name = 'Lentil(मसूर की दाल)'\n",
        "\telif predict1 == 11:\n",
        "\t\tcrop_name = 'Maize(मक्का)'\n",
        "\telif predict1 == 12:\n",
        "\t\tcrop_name = 'Mango(आम)'\n",
        "\telif predict1 == 13:\n",
        "\t\tcrop_name = 'Mothbeans(मोठबीन)'\n",
        "\telif predict1 == 14:\n",
        "\t\tcrop_name = 'Mungbeans(मूंग)'\n",
        "\telif predict1 == 15:\n",
        "\t\tcrop_name = 'Muskmelon(खरबूजा)'\n",
        "\telif predict1 == 16:\n",
        "\t\tcrop_name = 'Orange(संतरा)'\n",
        "\telif predict1 == 17:\n",
        "\t\tcrop_name = 'Papaya(पपीता)'\n",
        "\telif predict1 == 18:\n",
        "\t\tcrop_name = 'Pigeonpeas(कबूतर के मटर)'\n",
        "\telif predict1 == 19:\n",
        "\t\tcrop_name = 'Pomegranate(अनार)'\n",
        "\telif predict1 == 20:\n",
        "\t\tcrop_name = 'Rice(चावल)'\n",
        "\telif predict1 == 21:\n",
        "\t\tcrop_name = 'Watermelon(तरबूज)'\n",
        "\n",
        "\tif int(humidity_content) >=1 and int(humidity_content)<= 33 :                                                # Here I have divided the humidity values into three categories i.e low humid, medium humid, high humid.\n",
        "\t\thumidity_level = 'low humid'\n",
        "\telif int(humidity_content) >=34 and int(humidity_content) <= 66:\n",
        "\t\thumidity_level = 'medium humid'\n",
        "\telse:\n",
        "\t\thumidity_level = 'high humid'\n",
        "\n",
        "\tif int(temperature_content) >= 0 and int(temperature_content)<= 6:                                           # Here I have divided the temperature values into three categories i.e cool, warm, hot.\n",
        "\t\ttemperature_level = 'cool'\n",
        "\telif int(temperature_content) >=7 and int(temperature_content) <= 25:\n",
        "\t\ttemperature_level = 'warm'\n",
        "\telse:\n",
        "\t\ttemperature_level= 'hot' \n",
        "\n",
        "\tif int(rainfall) >=1 and int(rainfall) <= 100:                                                              # Here I have divided the humidity values into three categories i.e less, moderate, heavy rain.\n",
        "\t\trainfall_level = 'less'\n",
        "\telif int(rainfall) >= 101 and int(rainfall) <=200:\n",
        "\t\trainfall_level = 'moderate'\n",
        "\telif int(rainfall) >=201:\n",
        "\t\trainfall_level = 'heavy rain'\n",
        "\n",
        "\tif int(nitrogen_content) >= 1 and int(nitrogen_content) <= 50:                                             # Here I have divided the nitrogen values into three categories.\n",
        "\t\tnitrogen_level = 'less'\n",
        "\telif int(nitrogen_content) >=51 and int(nitrogen_content) <=100:\n",
        "\t\tnitrogen_level = 'not to less but also not to high'\n",
        "\telif int(nitrogen_content) >=101:\n",
        "\t\tnitrogen_level = 'high'\n",
        "\n",
        "\tif int(phosphorus_content) >= 1 and int(phosphorus_content) <= 50:                                         # Here I have divided the phosphorus values into three categories.\n",
        "\t\tphosphorus_level = 'less'\n",
        "\telif int(phosphorus_content) >= 51 and int(phosphorus_content) <=100:\n",
        "\t\tphosphorus_level = 'not to less but also not to high'\n",
        "\telif int(phosphorus_content) >=101:\n",
        "\t\tphosphorus_level = 'high'\n",
        "\n",
        "\tif int(potassium_content) >= 1 and int(potassium_content) <=50:                                           # Here I have divided the potassium values into three categories.\n",
        "\t\tpotassium_level = 'less'\n",
        "\telif int(potassium_content) >= 51 and int(potassium_content) <= 100:\n",
        "\t\tpotassium_level = 'not to less but also not to high'\n",
        "\telif int(potassium_content) >=101:\n",
        "\t\tpotassium_level = 'high'\n",
        "\n",
        "\tif float(ph_content) >=0 and float(ph_content) <=5:                                                        # Here I have divided the ph values into three categories.\n",
        "\t\tphlevel = 'acidic' \n",
        "\telif float(ph_content) >= 6 and float(ph_content) <= 8:\n",
        "\t\tphlevel = 'neutral'\n",
        "\telif float(ph_content) >= 9 and float(ph_content) <= 14:\n",
        "\t\tphlevel = 'alkaline'\n",
        "\t\n",
        "\tprint(crop_name)\n",
        "\tprint(humidity_level)\n",
        "\tprint(temperature_level)\n",
        "\tprint(rainfall_level)\n",
        "\tprint(nitrogen_level)\n",
        "\tprint(phosphorus_level)\n",
        "\tprint(potassium_level)\n",
        "\tprint(phlevel)\n",
        "\t\n",
        "\tspeak(\"Sir according to the data that you provided to me. The ratio of nitrogen in the soil is  \" + nitrogen_level + \". The ratio of phosphorus in the soil is  \" + phosphorus_level + \". The ratio of potassium in the soil is  \" + potassium_level + \". The temperature level around the field is  \" + temperature_level + \". The humidity level around the field is  \" + humidity_level + \". The ph type of the soil is  \" + phlevel + \". The amount of rainfall is  \" + rainfall_level )  # Making our program to speak about the data that it has received about the crop in front of the user.\n",
        "\twindow['-OUTPUT1-'].update('The best crop that you can grow : ' + crop_name )                                     # Suggesting the best crop after prediction.\n",
        "\tspeak(\"The best crop that you can grow is  \" + crop_name)                                                         # Speaking the name of the predicted crop.\n",
        "\n",
        "\n",
        "\t\n",
        "\n",
        "window.close() \n"
      ],
      "metadata": {
        "colab": {
          "base_uri": "https://localhost:8080/",
          "height": 1000
        },
        "id": "4f4d_Mnx6_9Z",
        "outputId": "3acbca0b-e374-4800-8e40-66aa5f42f4fd"
      },
      "execution_count": 50,
      "outputs": [
        {
          "output_type": "stream",
          "name": "stdout",
          "text": [
            "      NITROGEN  PHOSPHORUS  POTASSIUM  TEMPERATURE   HUMIDITY        PH  \\\n",
            "0           90          42         43    20.879744  82.002744  6.502985   \n",
            "1           85          58         41    21.770462  80.319644  7.038096   \n",
            "2           60          55         44    23.004459  82.320763  7.840207   \n",
            "3           74          35         40    26.491096  80.158363  6.980401   \n",
            "4           78          42         42    20.130175  81.604873  7.628473   \n",
            "...        ...         ...        ...          ...        ...       ...   \n",
            "2195       107          34         32    26.774637  66.413269  6.780064   \n",
            "2196        99          15         27    27.417112  56.636362  6.086922   \n",
            "2197       118          33         30    24.131797  67.225123  6.362608   \n",
            "2198       117          32         34    26.272418  52.127394  6.758793   \n",
            "2199       104          18         30    23.603016  60.396475  6.779833   \n",
            "\n",
            "        RAINFALL    CROP  \n",
            "0     202.935536    rice  \n",
            "1     226.655537    rice  \n",
            "2     263.964248    rice  \n",
            "3     242.864034    rice  \n",
            "4     262.717340    rice  \n",
            "...          ...     ...  \n",
            "2195  177.774507  coffee  \n",
            "2196  127.924610  coffee  \n",
            "2197  173.322839  coffee  \n",
            "2198  127.175293  coffee  \n",
            "2199  140.937041  coffee  \n",
            "\n",
            "[2200 rows x 8 columns]\n",
            "(2200, 8)\n"
          ]
        },
        {
          "output_type": "error",
          "ename": "ImportError",
          "evalue": "ignored",
          "traceback": [
            "\u001b[0;31m---------------------------------------------------------------------------\u001b[0m",
            "\u001b[0;31mKeyError\u001b[0m                                  Traceback (most recent call last)",
            "\u001b[0;32m/usr/local/lib/python3.7/dist-packages/pyttsx3/__init__.py\u001b[0m in \u001b[0;36minit\u001b[0;34m(driverName, debug)\u001b[0m\n\u001b[1;32m     19\u001b[0m     \u001b[0;32mtry\u001b[0m\u001b[0;34m:\u001b[0m\u001b[0;34m\u001b[0m\u001b[0;34m\u001b[0m\u001b[0m\n\u001b[0;32m---> 20\u001b[0;31m         \u001b[0meng\u001b[0m \u001b[0;34m=\u001b[0m \u001b[0m_activeEngines\u001b[0m\u001b[0;34m[\u001b[0m\u001b[0;34m'sapi5'\u001b[0m\u001b[0;34m]\u001b[0m\u001b[0;34m\u001b[0m\u001b[0;34m\u001b[0m\u001b[0m\n\u001b[0m\u001b[1;32m     21\u001b[0m     \u001b[0;32mexcept\u001b[0m \u001b[0mKeyError\u001b[0m\u001b[0;34m:\u001b[0m\u001b[0;34m\u001b[0m\u001b[0;34m\u001b[0m\u001b[0m\n",
            "\u001b[0;32m/usr/lib/python3.7/weakref.py\u001b[0m in \u001b[0;36m__getitem__\u001b[0;34m(self, key)\u001b[0m\n\u001b[1;32m    136\u001b[0m             \u001b[0mself\u001b[0m\u001b[0;34m.\u001b[0m\u001b[0m_commit_removals\u001b[0m\u001b[0;34m(\u001b[0m\u001b[0;34m)\u001b[0m\u001b[0;34m\u001b[0m\u001b[0;34m\u001b[0m\u001b[0m\n\u001b[0;32m--> 137\u001b[0;31m         \u001b[0mo\u001b[0m \u001b[0;34m=\u001b[0m \u001b[0mself\u001b[0m\u001b[0;34m.\u001b[0m\u001b[0mdata\u001b[0m\u001b[0;34m[\u001b[0m\u001b[0mkey\u001b[0m\u001b[0;34m]\u001b[0m\u001b[0;34m(\u001b[0m\u001b[0;34m)\u001b[0m\u001b[0;34m\u001b[0m\u001b[0;34m\u001b[0m\u001b[0m\n\u001b[0m\u001b[1;32m    138\u001b[0m         \u001b[0;32mif\u001b[0m \u001b[0mo\u001b[0m \u001b[0;32mis\u001b[0m \u001b[0;32mNone\u001b[0m\u001b[0;34m:\u001b[0m\u001b[0;34m\u001b[0m\u001b[0;34m\u001b[0m\u001b[0m\n",
            "\u001b[0;31mKeyError\u001b[0m: 'sapi5'",
            "\nDuring handling of the above exception, another exception occurred:\n",
            "\u001b[0;31mImportError\u001b[0m                               Traceback (most recent call last)",
            "\u001b[0;32m<ipython-input-50-5b675503ce8f>\u001b[0m in \u001b[0;36m<module>\u001b[0;34m()\u001b[0m\n\u001b[1;32m     10\u001b[0m \u001b[0mprint\u001b[0m\u001b[0;34m(\u001b[0m\u001b[0mexcel\u001b[0m\u001b[0;34m.\u001b[0m\u001b[0mshape\u001b[0m\u001b[0;34m)\u001b[0m                                                        \u001b[0;31m# Checking out the shape of our data.\u001b[0m\u001b[0;34m\u001b[0m\u001b[0;34m\u001b[0m\u001b[0m\n\u001b[1;32m     11\u001b[0m \u001b[0;34m\u001b[0m\u001b[0m\n\u001b[0;32m---> 12\u001b[0;31m \u001b[0mengine\u001b[0m \u001b[0;34m=\u001b[0m \u001b[0mpyttsx3\u001b[0m\u001b[0;34m.\u001b[0m\u001b[0minit\u001b[0m\u001b[0;34m(\u001b[0m\u001b[0;34m'sapi5'\u001b[0m\u001b[0;34m)\u001b[0m                       \u001b[0;31m# Defining the speech rate, type of voice etc.\u001b[0m\u001b[0;34m\u001b[0m\u001b[0;34m\u001b[0m\u001b[0m\n\u001b[0m\u001b[1;32m     13\u001b[0m \u001b[0mvoices\u001b[0m \u001b[0;34m=\u001b[0m \u001b[0mengine\u001b[0m\u001b[0;34m.\u001b[0m\u001b[0mgetProperty\u001b[0m\u001b[0;34m(\u001b[0m\u001b[0;34m'voices'\u001b[0m\u001b[0;34m)\u001b[0m\u001b[0;34m\u001b[0m\u001b[0;34m\u001b[0m\u001b[0m\n\u001b[1;32m     14\u001b[0m \u001b[0mrate\u001b[0m \u001b[0;34m=\u001b[0m \u001b[0mengine\u001b[0m\u001b[0;34m.\u001b[0m\u001b[0mgetProperty\u001b[0m\u001b[0;34m(\u001b[0m\u001b[0;34m'rate'\u001b[0m\u001b[0;34m)\u001b[0m\u001b[0;34m\u001b[0m\u001b[0;34m\u001b[0m\u001b[0m\n",
            "\u001b[0;32m/usr/local/lib/python3.7/dist-packages/pyttsx3/__init__.py\u001b[0m in \u001b[0;36minit\u001b[0;34m(driverName, debug)\u001b[0m\n\u001b[1;32m     20\u001b[0m         \u001b[0meng\u001b[0m \u001b[0;34m=\u001b[0m \u001b[0m_activeEngines\u001b[0m\u001b[0;34m[\u001b[0m\u001b[0;34m'sapi5'\u001b[0m\u001b[0;34m]\u001b[0m\u001b[0;34m\u001b[0m\u001b[0;34m\u001b[0m\u001b[0m\n\u001b[1;32m     21\u001b[0m     \u001b[0;32mexcept\u001b[0m \u001b[0mKeyError\u001b[0m\u001b[0;34m:\u001b[0m\u001b[0;34m\u001b[0m\u001b[0;34m\u001b[0m\u001b[0m\n\u001b[0;32m---> 22\u001b[0;31m         \u001b[0meng\u001b[0m \u001b[0;34m=\u001b[0m \u001b[0mEngine\u001b[0m\u001b[0;34m(\u001b[0m\u001b[0msapi5\u001b[0m\u001b[0;34m,\u001b[0m \u001b[0mdebug\u001b[0m\u001b[0;34m)\u001b[0m\u001b[0;34m\u001b[0m\u001b[0;34m\u001b[0m\u001b[0m\n\u001b[0m\u001b[1;32m     23\u001b[0m         \u001b[0m_activeEngines\u001b[0m\u001b[0;34m[\u001b[0m\u001b[0msapi5\u001b[0m\u001b[0;34m]\u001b[0m \u001b[0;34m=\u001b[0m \u001b[0meng\u001b[0m\u001b[0;34m\u001b[0m\u001b[0;34m\u001b[0m\u001b[0m\n\u001b[1;32m     24\u001b[0m     \u001b[0;32mreturn\u001b[0m \u001b[0meng\u001b[0m\u001b[0;34m\u001b[0m\u001b[0;34m\u001b[0m\u001b[0m\n",
            "\u001b[0;32m/usr/local/lib/python3.7/dist-packages/pyttsx3/engine.py\u001b[0m in \u001b[0;36m__init__\u001b[0;34m(self, driverName, debug)\u001b[0m\n\u001b[1;32m     28\u001b[0m         \u001b[0;34m@\u001b[0m\u001b[0mtype\u001b[0m \u001b[0mdebug\u001b[0m\u001b[0;34m:\u001b[0m \u001b[0mbool\u001b[0m\u001b[0;34m\u001b[0m\u001b[0;34m\u001b[0m\u001b[0m\n\u001b[1;32m     29\u001b[0m         \"\"\"\n\u001b[0;32m---> 30\u001b[0;31m         \u001b[0mself\u001b[0m\u001b[0;34m.\u001b[0m\u001b[0mproxy\u001b[0m \u001b[0;34m=\u001b[0m \u001b[0mdriver\u001b[0m\u001b[0;34m.\u001b[0m\u001b[0mDriverProxy\u001b[0m\u001b[0;34m(\u001b[0m\u001b[0mweakref\u001b[0m\u001b[0;34m.\u001b[0m\u001b[0mproxy\u001b[0m\u001b[0;34m(\u001b[0m\u001b[0mself\u001b[0m\u001b[0;34m)\u001b[0m\u001b[0;34m,\u001b[0m \u001b[0mdriverName\u001b[0m\u001b[0;34m,\u001b[0m \u001b[0mdebug\u001b[0m\u001b[0;34m)\u001b[0m\u001b[0;34m\u001b[0m\u001b[0;34m\u001b[0m\u001b[0m\n\u001b[0m\u001b[1;32m     31\u001b[0m         \u001b[0;31m# initialize other vars\u001b[0m\u001b[0;34m\u001b[0m\u001b[0;34m\u001b[0m\u001b[0;34m\u001b[0m\u001b[0m\n\u001b[1;32m     32\u001b[0m         \u001b[0mself\u001b[0m\u001b[0;34m.\u001b[0m\u001b[0m_connects\u001b[0m \u001b[0;34m=\u001b[0m \u001b[0;34m{\u001b[0m\u001b[0;34m}\u001b[0m\u001b[0;34m\u001b[0m\u001b[0;34m\u001b[0m\u001b[0m\n",
            "\u001b[0;32m/usr/local/lib/python3.7/dist-packages/pyttsx3/driver.py\u001b[0m in \u001b[0;36m__init__\u001b[0;34m(self, engine, driverName, debug)\u001b[0m\n\u001b[1;32m     48\u001b[0m         \u001b[0;31m# import driver module\u001b[0m\u001b[0;34m\u001b[0m\u001b[0;34m\u001b[0m\u001b[0;34m\u001b[0m\u001b[0m\n\u001b[1;32m     49\u001b[0m         \u001b[0mname\u001b[0m \u001b[0;34m=\u001b[0m \u001b[0;34m'pyttsx3.drivers.%s'\u001b[0m \u001b[0;34m%\u001b[0m \u001b[0mdriverName\u001b[0m\u001b[0;34m\u001b[0m\u001b[0;34m\u001b[0m\u001b[0m\n\u001b[0;32m---> 50\u001b[0;31m         \u001b[0mself\u001b[0m\u001b[0;34m.\u001b[0m\u001b[0m_module\u001b[0m \u001b[0;34m=\u001b[0m \u001b[0mimportlib\u001b[0m\u001b[0;34m.\u001b[0m\u001b[0mimport_module\u001b[0m\u001b[0;34m(\u001b[0m\u001b[0mname\u001b[0m\u001b[0;34m)\u001b[0m\u001b[0;34m\u001b[0m\u001b[0;34m\u001b[0m\u001b[0m\n\u001b[0m\u001b[1;32m     51\u001b[0m         \u001b[0;31m# build driver instance\u001b[0m\u001b[0;34m\u001b[0m\u001b[0;34m\u001b[0m\u001b[0;34m\u001b[0m\u001b[0m\n\u001b[1;32m     52\u001b[0m         \u001b[0mself\u001b[0m\u001b[0;34m.\u001b[0m\u001b[0m_driver\u001b[0m \u001b[0;34m=\u001b[0m \u001b[0mself\u001b[0m\u001b[0;34m.\u001b[0m\u001b[0m_module\u001b[0m\u001b[0;34m.\u001b[0m\u001b[0mbuildDriver\u001b[0m\u001b[0;34m(\u001b[0m\u001b[0mweakref\u001b[0m\u001b[0;34m.\u001b[0m\u001b[0mproxy\u001b[0m\u001b[0;34m(\u001b[0m\u001b[0mself\u001b[0m\u001b[0;34m)\u001b[0m\u001b[0;34m)\u001b[0m\u001b[0;34m\u001b[0m\u001b[0;34m\u001b[0m\u001b[0m\n",
            "\u001b[0;32m/usr/lib/python3.7/importlib/__init__.py\u001b[0m in \u001b[0;36mimport_module\u001b[0;34m(name, package)\u001b[0m\n\u001b[1;32m    125\u001b[0m                 \u001b[0;32mbreak\u001b[0m\u001b[0;34m\u001b[0m\u001b[0;34m\u001b[0m\u001b[0m\n\u001b[1;32m    126\u001b[0m             \u001b[0mlevel\u001b[0m \u001b[0;34m+=\u001b[0m \u001b[0;36m1\u001b[0m\u001b[0;34m\u001b[0m\u001b[0;34m\u001b[0m\u001b[0m\n\u001b[0;32m--> 127\u001b[0;31m     \u001b[0;32mreturn\u001b[0m \u001b[0m_bootstrap\u001b[0m\u001b[0;34m.\u001b[0m\u001b[0m_gcd_import\u001b[0m\u001b[0;34m(\u001b[0m\u001b[0mname\u001b[0m\u001b[0;34m[\u001b[0m\u001b[0mlevel\u001b[0m\u001b[0;34m:\u001b[0m\u001b[0;34m]\u001b[0m\u001b[0;34m,\u001b[0m \u001b[0mpackage\u001b[0m\u001b[0;34m,\u001b[0m \u001b[0mlevel\u001b[0m\u001b[0;34m)\u001b[0m\u001b[0;34m\u001b[0m\u001b[0;34m\u001b[0m\u001b[0m\n\u001b[0m\u001b[1;32m    128\u001b[0m \u001b[0;34m\u001b[0m\u001b[0m\n\u001b[1;32m    129\u001b[0m \u001b[0;34m\u001b[0m\u001b[0m\n",
            "\u001b[0;32m/usr/lib/python3.7/importlib/_bootstrap.py\u001b[0m in \u001b[0;36m_gcd_import\u001b[0;34m(name, package, level)\u001b[0m\n",
            "\u001b[0;32m/usr/lib/python3.7/importlib/_bootstrap.py\u001b[0m in \u001b[0;36m_find_and_load\u001b[0;34m(name, import_)\u001b[0m\n",
            "\u001b[0;32m/usr/lib/python3.7/importlib/_bootstrap.py\u001b[0m in \u001b[0;36m_find_and_load_unlocked\u001b[0;34m(name, import_)\u001b[0m\n",
            "\u001b[0;32m/usr/lib/python3.7/importlib/_bootstrap.py\u001b[0m in \u001b[0;36m_load_unlocked\u001b[0;34m(spec)\u001b[0m\n",
            "\u001b[0;32m/usr/lib/python3.7/importlib/_bootstrap_external.py\u001b[0m in \u001b[0;36mexec_module\u001b[0;34m(self, module)\u001b[0m\n",
            "\u001b[0;32m/usr/lib/python3.7/importlib/_bootstrap.py\u001b[0m in \u001b[0;36m_call_with_frames_removed\u001b[0;34m(f, *args, **kwds)\u001b[0m\n",
            "\u001b[0;32m/usr/local/lib/python3.7/dist-packages/pyttsx3/drivers/sapi5.py\u001b[0m in \u001b[0;36m<module>\u001b[0;34m()\u001b[0m\n\u001b[0;32m----> 1\u001b[0;31m \u001b[0;32mimport\u001b[0m \u001b[0mcomtypes\u001b[0m\u001b[0;34m.\u001b[0m\u001b[0mclient\u001b[0m  \u001b[0;31m# Importing comtypes.client will make the gen subpackage\u001b[0m\u001b[0;34m\u001b[0m\u001b[0;34m\u001b[0m\u001b[0m\n\u001b[0m\u001b[1;32m      2\u001b[0m \u001b[0;32mtry\u001b[0m\u001b[0;34m:\u001b[0m\u001b[0;34m\u001b[0m\u001b[0;34m\u001b[0m\u001b[0m\n\u001b[1;32m      3\u001b[0m     \u001b[0;32mfrom\u001b[0m \u001b[0mcomtypes\u001b[0m\u001b[0;34m.\u001b[0m\u001b[0mgen\u001b[0m \u001b[0;32mimport\u001b[0m \u001b[0mSpeechLib\u001b[0m  \u001b[0;31m# comtypes\u001b[0m\u001b[0;34m\u001b[0m\u001b[0;34m\u001b[0m\u001b[0m\n\u001b[1;32m      4\u001b[0m \u001b[0;32mexcept\u001b[0m \u001b[0mImportError\u001b[0m\u001b[0;34m:\u001b[0m\u001b[0;34m\u001b[0m\u001b[0;34m\u001b[0m\u001b[0m\n\u001b[1;32m      5\u001b[0m     \u001b[0;31m# Generate the SpeechLib lib and any associated files\u001b[0m\u001b[0;34m\u001b[0m\u001b[0;34m\u001b[0m\u001b[0;34m\u001b[0m\u001b[0m\n",
            "\u001b[0;32m/usr/local/lib/python3.7/dist-packages/comtypes/__init__.py\u001b[0m in \u001b[0;36m<module>\u001b[0;34m()\u001b[0m\n\u001b[1;32m     26\u001b[0m \u001b[0;34m\u001b[0m\u001b[0m\n\u001b[1;32m     27\u001b[0m \u001b[0;32mfrom\u001b[0m \u001b[0mctypes\u001b[0m \u001b[0;32mimport\u001b[0m \u001b[0;34m*\u001b[0m\u001b[0;34m\u001b[0m\u001b[0;34m\u001b[0m\u001b[0m\n\u001b[0;32m---> 28\u001b[0;31m \u001b[0;32mfrom\u001b[0m \u001b[0m_ctypes\u001b[0m \u001b[0;32mimport\u001b[0m \u001b[0mCOMError\u001b[0m\u001b[0;34m\u001b[0m\u001b[0;34m\u001b[0m\u001b[0m\n\u001b[0m\u001b[1;32m     29\u001b[0m \u001b[0;32mfrom\u001b[0m \u001b[0mcomtypes\u001b[0m \u001b[0;32mimport\u001b[0m \u001b[0mpatcher\u001b[0m\u001b[0;34m\u001b[0m\u001b[0;34m\u001b[0m\u001b[0m\n\u001b[1;32m     30\u001b[0m \u001b[0;34m\u001b[0m\u001b[0m\n",
            "\u001b[0;31mImportError\u001b[0m: cannot import name 'COMError' from '_ctypes' (/usr/lib/python3.7/lib-dynload/_ctypes.cpython-37m-x86_64-linux-gnu.so)",
            "",
            "\u001b[0;31m---------------------------------------------------------------------------\u001b[0;32m\nNOTE: If your import is failing due to a missing package, you can\nmanually install dependencies using either !pip or !apt.\n\nTo view examples of installing some common dependencies, click the\n\"Open Examples\" button below.\n\u001b[0;31m---------------------------------------------------------------------------\u001b[0m\n"
          ],
          "errorDetails": {
            "actions": [
              {
                "action": "open_url",
                "actionText": "Open Examples",
                "url": "/notebooks/snippets/importing_libraries.ipynb"
              }
            ]
          }
        }
      ]
    }
  ]
}